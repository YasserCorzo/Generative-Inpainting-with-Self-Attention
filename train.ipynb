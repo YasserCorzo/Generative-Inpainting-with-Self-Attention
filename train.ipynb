{
  "cells": [
    {
      "cell_type": "code",
      "execution_count": 6,
      "metadata": {
        "colab": {
          "base_uri": "https://localhost:8080/"
        },
        "id": "ip3dhVU9DtyQ",
        "outputId": "39efa31c-1fec-4b9c-b01d-29d3a8140a27"
      },
      "outputs": [
        {
          "name": "stdout",
          "output_type": "stream",
          "text": [
            "The autoreload extension is already loaded. To reload it, use:\n",
            "  %reload_ext autoreload\n"
          ]
        }
      ],
      "source": [
        "%load_ext autoreload\n",
        "%autoreload 2"
      ]
    },
    {
      "cell_type": "code",
      "execution_count": 7,
      "metadata": {
        "id": "SKWRzrH_DtyU"
      },
      "outputs": [],
      "source": [
        "import numpy as np\n",
        "import matplotlib.pyplot as plt\n",
        "import matplotlib.image as mpimg\n",
        "import torch\n",
        "import torch.nn as nn\n",
        "import torchvision\n",
        "\n",
        "from model import InpaintModel\n",
        "from preprocess import get_images, get_mask\n",
        "from torchsummary import summary\n",
        "import ssl\n",
        "\n",
        "ssl._create_default_https_context = ssl._create_unverified_context"
      ]
    },
    {
      "cell_type": "code",
      "execution_count": 8,
      "metadata": {},
      "outputs": [
        {
          "name": "stdout",
          "output_type": "stream",
          "text": [
            "cuda:0\n"
          ]
        }
      ],
      "source": [
        "device = torch.device(\"cuda:0\" if torch.cuda.is_available() else \"cpu\")\n",
        "print(device)"
      ]
    },
    {
      "cell_type": "code",
      "execution_count": 9,
      "metadata": {
        "id": "jSb524-eDtyX"
      },
      "outputs": [],
      "source": [
        "n_epochs = 10\n",
        "alpha = 0.02\n",
        "learning_rate = 0.01\n",
        "batch_size = 32"
      ]
    },
    {
      "cell_type": "code",
      "execution_count": 10,
      "metadata": {
        "colab": {
          "base_uri": "https://localhost:8080/"
        },
        "id": "3i2mPa2LDtyX",
        "outputId": "583b15dd-19ca-4a02-8baa-e2239ddf610e"
      },
      "outputs": [
        {
          "name": "stdout",
          "output_type": "stream",
          "text": [
            "Files already downloaded and verified\n",
            "torch.Size([32, 32, 32])\n"
          ]
        }
      ],
      "source": [
        "train_loader, test_loader = get_images(batch_size)\n",
        "image_size = (32, 32)\n",
        "square_size = 8\n",
        "binary_mask = get_mask(image_size, square_size)\n",
        "# reshape binary mask to add batch_size dimension\n",
        "binary_mask = binary_mask.unsqueeze(0)\n",
        "binary_mask = binary_mask.expand(batch_size, -1, -1)\n",
        "binary_mask = binary_mask.to(device)\n",
        "\n",
        "print(binary_mask.shape)"
      ]
    },
    {
      "cell_type": "code",
      "execution_count": 11,
      "metadata": {},
      "outputs": [
        {
          "name": "stdout",
          "output_type": "stream",
          "text": [
            "==========================================================================================\n",
            "Layer (type:depth-idx)                   Output Shape              Param #\n",
            "==========================================================================================\n",
            "├─Generator: 1-1                         [-1, 3, 32, 32]           --\n",
            "|    └─Sequential: 2-1                   [-1, 3, 32, 32]           --\n",
            "|    |    └─GatedConv: 3-1               [-1, 32, 32, 32]          6,528\n",
            "|    |    └─GatedConv: 3-2               [-1, 64, 16, 16]          37,120\n",
            "|    |    └─GatedConv: 3-3               [-1, 64, 16, 16]          73,984\n",
            "|    |    └─GatedConv: 3-4               [-1, 128, 8, 8]           147,968\n",
            "|    |    └─GatedConv: 3-5               [-1, 128, 8, 8]           295,424\n",
            "|    |    └─GatedConv: 3-6               [-1, 128, 8, 8]           295,424\n",
            "|    |    └─GatedConv: 3-7               [-1, 128, 8, 8]           295,424\n",
            "|    |    └─GatedConv: 3-8               [-1, 128, 8, 8]           295,424\n",
            "|    |    └─GatedConv: 3-9               [-1, 128, 8, 8]           295,424\n",
            "|    |    └─GatedConv: 3-10              [-1, 128, 8, 8]           295,424\n",
            "|    |    └─GatedConv: 3-11              [-1, 128, 8, 8]           295,424\n",
            "|    |    └─GatedConv: 3-12              [-1, 128, 8, 8]           295,424\n",
            "|    |    └─ResizeGatedConv: 3-13        [-1, 64, 16, 16]          147,712\n",
            "|    |    └─GatedConv: 3-14              [-1, 64, 16, 16]          73,984\n",
            "|    |    └─ResizeGatedConv: 3-15        [-1, 32, 32, 32]          36,992\n",
            "|    |    └─GatedConv: 3-16              [-1, 16, 32, 32]          9,280\n",
            "|    |    └─GatedConv: 3-17              [-1, 3, 32, 32]           876\n",
            "|    └─Sequential: 2-2                   [-1, 3, 32, 32]           --\n",
            "|    |    └─GatedConv: 3-18              [-1, 32, 32, 32]          6,528\n",
            "|    |    └─GatedConv: 3-19              [-1, 32, 16, 16]          18,560\n",
            "|    |    └─GatedConv: 3-20              [-1, 64, 16, 16]          37,120\n",
            "|    |    └─GatedConv: 3-21              [-1, 128, 8, 8]           147,968\n",
            "|    |    └─GatedConv: 3-22              [-1, 128, 8, 8]           295,424\n",
            "|    |    └─GatedConv: 3-23              [-1, 128, 8, 8]           295,424\n",
            "|    |    └─SelfAttention: 3-24          [-1, 128, 8, 8]           20,641\n",
            "|    |    └─GatedConv: 3-25              [-1, 128, 8, 8]           295,424\n",
            "|    |    └─GatedConv: 3-26              [-1, 128, 8, 8]           295,424\n",
            "|    |    └─GatedConv: 3-27              [-1, 128, 8, 8]           295,424\n",
            "|    |    └─GatedConv: 3-28              [-1, 128, 8, 8]           295,424\n",
            "|    |    └─ResizeGatedConv: 3-29        [-1, 64, 16, 16]          147,712\n",
            "|    |    └─GatedConv: 3-30              [-1, 64, 16, 16]          73,984\n",
            "|    |    └─ResizeGatedConv: 3-31        [-1, 32, 32, 32]          36,992\n",
            "|    |    └─GatedConv: 3-32              [-1, 16, 32, 32]          9,280\n",
            "|    |    └─GatedConv: 3-33              [-1, 3, 32, 32]           876\n",
            "==========================================================================================\n",
            "Total params: 5,170,041\n",
            "Trainable params: 5,170,041\n",
            "Non-trainable params: 0\n",
            "Total mult-adds (M): 414.25\n",
            "==========================================================================================\n",
            "Input size (MB): 0.02\n",
            "Forward/backward pass size (MB): 7.53\n",
            "Params size (MB): 19.72\n",
            "Estimated Total Size (MB): 27.27\n",
            "==========================================================================================\n"
          ]
        },
        {
          "data": {
            "text/plain": [
              "==========================================================================================\n",
              "Layer (type:depth-idx)                   Output Shape              Param #\n",
              "==========================================================================================\n",
              "├─Generator: 1-1                         [-1, 3, 32, 32]           --\n",
              "|    └─Sequential: 2-1                   [-1, 3, 32, 32]           --\n",
              "|    |    └─GatedConv: 3-1               [-1, 32, 32, 32]          6,528\n",
              "|    |    └─GatedConv: 3-2               [-1, 64, 16, 16]          37,120\n",
              "|    |    └─GatedConv: 3-3               [-1, 64, 16, 16]          73,984\n",
              "|    |    └─GatedConv: 3-4               [-1, 128, 8, 8]           147,968\n",
              "|    |    └─GatedConv: 3-5               [-1, 128, 8, 8]           295,424\n",
              "|    |    └─GatedConv: 3-6               [-1, 128, 8, 8]           295,424\n",
              "|    |    └─GatedConv: 3-7               [-1, 128, 8, 8]           295,424\n",
              "|    |    └─GatedConv: 3-8               [-1, 128, 8, 8]           295,424\n",
              "|    |    └─GatedConv: 3-9               [-1, 128, 8, 8]           295,424\n",
              "|    |    └─GatedConv: 3-10              [-1, 128, 8, 8]           295,424\n",
              "|    |    └─GatedConv: 3-11              [-1, 128, 8, 8]           295,424\n",
              "|    |    └─GatedConv: 3-12              [-1, 128, 8, 8]           295,424\n",
              "|    |    └─ResizeGatedConv: 3-13        [-1, 64, 16, 16]          147,712\n",
              "|    |    └─GatedConv: 3-14              [-1, 64, 16, 16]          73,984\n",
              "|    |    └─ResizeGatedConv: 3-15        [-1, 32, 32, 32]          36,992\n",
              "|    |    └─GatedConv: 3-16              [-1, 16, 32, 32]          9,280\n",
              "|    |    └─GatedConv: 3-17              [-1, 3, 32, 32]           876\n",
              "|    └─Sequential: 2-2                   [-1, 3, 32, 32]           --\n",
              "|    |    └─GatedConv: 3-18              [-1, 32, 32, 32]          6,528\n",
              "|    |    └─GatedConv: 3-19              [-1, 32, 16, 16]          18,560\n",
              "|    |    └─GatedConv: 3-20              [-1, 64, 16, 16]          37,120\n",
              "|    |    └─GatedConv: 3-21              [-1, 128, 8, 8]           147,968\n",
              "|    |    └─GatedConv: 3-22              [-1, 128, 8, 8]           295,424\n",
              "|    |    └─GatedConv: 3-23              [-1, 128, 8, 8]           295,424\n",
              "|    |    └─SelfAttention: 3-24          [-1, 128, 8, 8]           20,641\n",
              "|    |    └─GatedConv: 3-25              [-1, 128, 8, 8]           295,424\n",
              "|    |    └─GatedConv: 3-26              [-1, 128, 8, 8]           295,424\n",
              "|    |    └─GatedConv: 3-27              [-1, 128, 8, 8]           295,424\n",
              "|    |    └─GatedConv: 3-28              [-1, 128, 8, 8]           295,424\n",
              "|    |    └─ResizeGatedConv: 3-29        [-1, 64, 16, 16]          147,712\n",
              "|    |    └─GatedConv: 3-30              [-1, 64, 16, 16]          73,984\n",
              "|    |    └─ResizeGatedConv: 3-31        [-1, 32, 32, 32]          36,992\n",
              "|    |    └─GatedConv: 3-32              [-1, 16, 32, 32]          9,280\n",
              "|    |    └─GatedConv: 3-33              [-1, 3, 32, 32]           876\n",
              "==========================================================================================\n",
              "Total params: 5,170,041\n",
              "Trainable params: 5,170,041\n",
              "Non-trainable params: 0\n",
              "Total mult-adds (M): 414.25\n",
              "==========================================================================================\n",
              "Input size (MB): 0.02\n",
              "Forward/backward pass size (MB): 7.53\n",
              "Params size (MB): 19.72\n",
              "Estimated Total Size (MB): 27.27\n",
              "=========================================================================================="
            ]
          },
          "execution_count": 11,
          "metadata": {},
          "output_type": "execute_result"
        }
      ],
      "source": [
        "model = InpaintModel().to(device)\n",
        "summary(model, [(3, 32, 32), (32, 32)])"
      ]
    },
    {
      "cell_type": "code",
      "execution_count": 12,
      "metadata": {
        "colab": {
          "base_uri": "https://localhost:8080/"
        },
        "id": "sbB1owtiKgpB",
        "outputId": "812c1dd2-d38c-4baf-9d78-46b6a7bfc5be"
      },
      "outputs": [],
      "source": [
        "learning_rate_gen = 0.01\n",
        "learning_rate_dis = 0.03\n",
        "\n",
        "opt_generator = torch.optim.Adam(model.generator.parameters(), lr=0.0001)\n",
        "opt_discriminator = torch.optim.Adam(model.discriminator.parameters(), lr=0.0004)"
      ]
    },
    {
      "cell_type": "code",
      "execution_count": 13,
      "metadata": {},
      "outputs": [],
      "source": [
        "discriminator_freq = 5\n",
        "generator_freq = 1"
      ]
    },
    {
      "cell_type": "code",
      "execution_count": 14,
      "metadata": {
        "colab": {
          "base_uri": "https://localhost:8080/"
        },
        "id": "til40Q3kDtyY",
        "outputId": "8bde2006-5514-4718-f4b1-406eb80e547e"
      },
      "outputs": [
        {
          "name": "stdout",
          "output_type": "stream",
          "text": [
            "Epoch: 0 \tTraining Loss (reconstruction): 0.025431\n",
            "Epoch: 1 \tTraining Loss (reconstruction): 0.015079\n",
            "Epoch: 2 \tTraining Loss (reconstruction): 0.011050\n",
            "Epoch: 3 \tTraining Loss (reconstruction): 0.008820\n",
            "Epoch: 4 \tTraining Loss (reconstruction): 0.007409\n",
            "Epoch: 5 \tTraining Loss (reconstruction): 0.006527\n",
            "Epoch: 6 \tTraining Loss (reconstruction): 0.006007\n",
            "Epoch: 7 \tTraining Loss (reconstruction): 0.005533\n",
            "Epoch: 8 \tTraining Loss (reconstruction): 0.005228\n",
            "Epoch: 9 \tTraining Loss (reconstruction): 0.005332\n"
          ]
        }
      ],
      "source": [
        "for epoch in range(n_epochs):\n",
        "    #Training\n",
        "    train_loss = 0\n",
        "    loss = 0\n",
        "    model.train()\n",
        "    for batch_idx, (data, _) in enumerate(train_loader):\n",
        "        if data.shape[0] != batch_size:\n",
        "            continue\n",
        "        data = data.to(device)\n",
        "        binary_mask = binary_mask.to(device)\n",
        "\n",
        "        ### TRAIN THE DISCRIMINATOR ###\n",
        "        if batch_idx % discriminator_freq == 0:\n",
        "            # model forward\n",
        "            x_fake, x_coarse, x_refinement = model(data, binary_mask)\n",
        "            x_all = torch.cat([x_fake, data], dim=0)\n",
        "            masks_double = torch.cat([binary_mask, binary_mask], dim=0)\n",
        "            # clear the gradients of all optimized variables for discriminator\n",
        "            opt_discriminator.zero_grad()\n",
        "            x_hat_all = model.discriminator(x_all, masks_double)\n",
        "            fake_output = x_hat_all[:batch_size]\n",
        "            real_output = x_hat_all[batch_size:]\n",
        "            \n",
        "            # compute the discriminator loss\n",
        "            loss_dis = model.discriminator.loss_function(real_output, fake_output)\n",
        "            # backward/update discriminator\n",
        "            loss_dis.backward()\n",
        "            opt_discriminator.step()\n",
        "\n",
        "            #train_loss += loss_dis\n",
        "        \n",
        "        ### TRAIN THE GENERATOR ###\n",
        "        if batch_idx % generator_freq == 0:\n",
        "            # model forward\n",
        "            x_fake, x_coarse, x_refinement = model(data, binary_mask)\n",
        "            x_hat_dis = model.discriminator(x_fake, binary_mask)\n",
        "            # clear the gradients of all optimized variables for generator\n",
        "            opt_generator.zero_grad()\n",
        "            # compute the generator loss\n",
        "            loss_gen = model.generator.loss_function(x_hat_dis)\n",
        "            loss_recon = model.generator.combined_rec_loss_function(data, x_coarse, x_refinement, binary_mask, 1/320)\n",
        "            if np.random.uniform(0, 1) >= 0.1:\n",
        "                loss_gen += loss_recon\n",
        "            # backward/update generator\n",
        "            loss_gen.backward()\n",
        "            opt_generator.step()\n",
        "\n",
        "            train_loss += loss_recon\n",
        "\n",
        "    train_loss = train_loss/len(train_loader)\n",
        "    print('Epoch: {} \\tTraining Loss (reconstruction): {:.6f}'.format(epoch, train_loss))\n"
      ]
    },
    {
      "cell_type": "code",
      "execution_count": 15,
      "metadata": {},
      "outputs": [
        {
          "name": "stdout",
          "output_type": "stream",
          "text": [
            "Test Loss: 0.005391\n"
          ]
        }
      ],
      "source": [
        "#Testing\n",
        "\n",
        "test_loss = count = 0\n",
        "loss = 0\n",
        "input = None\n",
        "output = None\n",
        "with torch.no_grad():\n",
        "    for batch_idx, (data, _) in enumerate(test_loader):\n",
        "        if data.shape[0] != batch_size:\n",
        "            continue\n",
        "        images = data.to(device)\n",
        "        masks = binary_mask.to(device)\n",
        "        # model forward\n",
        "        fake_images, coarse, refinement = model(images, masks)\n",
        "        all_images = torch.cat([fake_images, images], dim=0)\n",
        "        double_masks = torch.cat([masks, masks], dim=0)\n",
        "\n",
        "        all_output = model.discriminator(all_images, double_masks)\n",
        "        fake_output = all_output[:images.size(0)]\n",
        "        real_output = all_output[images.size(0):]\n",
        "        \n",
        "        # compute the loss\n",
        "        loss_dis = model.discriminator.loss_function(real_output, fake_output)\n",
        "        loss_gen = model.generator.loss_function(fake_output)\n",
        "        loss_recon = model.generator.combined_rec_loss_function(images, coarse, refinement, masks, 1/320)\n",
        "        # update running training loss\n",
        "        test_loss += loss_recon\n",
        "        input = images\n",
        "        output = fake_images\n",
        "\n",
        "    test_loss = test_loss / len(test_loader)\n",
        "    print('Test Loss: {:.6f}'.format(test_loss))"
      ]
    },
    {
      "cell_type": "code",
      "execution_count": 16,
      "metadata": {},
      "outputs": [],
      "source": [
        "# B x C x H x W\n",
        "data = input\n",
        "out = output\n",
        "\n",
        "input_disp = data[:8]\n",
        "output_disp = out[:8]\n",
        "\n",
        "# B x H x W x C\n",
        "input_disp = input_disp.permute(0, 2, 3, 1)\n",
        "output_disp = output_disp.permute(0, 2, 3, 1)\n",
        "\n",
        "input_disp = input_disp.cpu()\n",
        "output_disp = output_disp.cpu()"
      ]
    },
    {
      "cell_type": "code",
      "execution_count": 17,
      "metadata": {},
      "outputs": [
        {
          "data": {
            "text/plain": [
              "<matplotlib.image.AxesImage at 0x1fa658b74d0>"
            ]
          },
          "execution_count": 17,
          "metadata": {},
          "output_type": "execute_result"
        },
        {
          "data": {
            "image/png": "[encoded data removed]",
            "text/plain": [
              "<Figure size 640x480 with 16 Axes>"
            ]
          },
          "metadata": {},
          "output_type": "display_data"
        }
      ],
      "source": [
        "f, axarr = plt.subplots(2,8)\n",
        "axarr[0, 0].axis(\"off\")\n",
        "axarr[0, 0].imshow(input_disp[0], interpolation='nearest')\n",
        "axarr[0, 1].axis(\"off\")\n",
        "axarr[0, 1].imshow(input_disp[1], interpolation='nearest')\n",
        "axarr[0, 2].axis(\"off\")\n",
        "axarr[0, 2].imshow(input_disp[2], interpolation='nearest')\n",
        "axarr[0, 3].axis(\"off\")\n",
        "axarr[0, 3].imshow(input_disp[3], interpolation='nearest')\n",
        "axarr[0, 4].axis(\"off\")\n",
        "axarr[0, 4].imshow(input_disp[4], interpolation='nearest')\n",
        "axarr[0, 5].axis(\"off\")\n",
        "axarr[0, 5].imshow(input_disp[5], interpolation='nearest')\n",
        "axarr[0, 6].axis(\"off\")\n",
        "axarr[0, 6].imshow(input_disp[6], interpolation='nearest')\n",
        "axarr[0, 7].axis(\"off\")\n",
        "axarr[0, 7].imshow(input_disp[7], interpolation='nearest')\n",
        "\n",
        "axarr[1, 0].axis(\"off\")\n",
        "axarr[1, 0].imshow(output_disp[0], interpolation='nearest')\n",
        "axarr[1, 1].axis(\"off\")\n",
        "axarr[1, 1].imshow(output_disp[1], interpolation='nearest')\n",
        "axarr[1, 2].axis(\"off\")\n",
        "axarr[1, 2].imshow(output_disp[2], interpolation='nearest')\n",
        "axarr[1, 3].axis(\"off\")\n",
        "axarr[1, 3].imshow(output_disp[3], interpolation='nearest')\n",
        "axarr[1, 4].axis(\"off\")\n",
        "axarr[1, 4].imshow(output_disp[4], interpolation='nearest')\n",
        "axarr[1, 5].axis(\"off\")\n",
        "axarr[1, 5].imshow(output_disp[5], interpolation='nearest')\n",
        "axarr[1, 6].axis(\"off\")\n",
        "axarr[1, 6].imshow(output_disp[6], interpolation='nearest')\n",
        "axarr[1, 7].axis(\"off\")\n",
        "axarr[1, 7].imshow(output_disp[7], interpolation='nearest')"
      ]
    },
    {
      "cell_type": "code",
      "execution_count": null,
      "metadata": {},
      "outputs": [],
      "source": []
    }
  ],
  "metadata": {
    "accelerator": "GPU",
    "colab": {
      "gpuType": "T4",
      "provenance": []
    },
    "kernelspec": {
      "display_name": "Python 3",
      "name": "python3"
    },
    "language_info": {
      "codemirror_mode": {
        "name": "ipython",
        "version": 3
      },
      "file_extension": ".py",
      "mimetype": "text/x-python",
      "name": "python",
      "nbconvert_exporter": "python",
      "pygments_lexer": "ipython3",
      "version": "3.11.5"
    }
  },
  "nbformat": 4,
  "nbformat_minor": 0
}
